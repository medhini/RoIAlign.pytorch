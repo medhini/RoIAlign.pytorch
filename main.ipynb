{
 "cells": [
  {
   "cell_type": "code",
   "execution_count": 1,
   "metadata": {},
   "outputs": [],
   "source": [
    "import os\n",
    "import torch\n",
    "import torch.nn as nn\n",
    "import torchvision.models as models\n",
    "from torch.autograd import Variable\n",
    "from torch.utils.data import DataLoader\n",
    "\n",
    "from roi_align.roi_align import RoIAlign      # RoIAlign module\n",
    "from roi_align.roi_align import CropAndResize # crop_and_resize module\n",
    "# from image_loader import Image_Reader\n",
    "from torch.utils.data import DataLoader\n",
    "\n",
    "import json\n",
    "import torch\n",
    "import string\n",
    "import pprint\n",
    "import os\n",
    "from torch.utils.data import Dataset\n",
    "import torchvision.transforms as transforms\n",
    "\n",
    "import torch._utils\n",
    "try:\n",
    "    torch._utils._rebuild_tensor_v2\n",
    "except AttributeError:\n",
    "    def _rebuild_tensor_v2(storage, storage_offset, size, stride, requires_grad, backward_hooks):\n",
    "        tensor = torch._utils._rebuild_tensor(storage, storage_offset, size, stride)\n",
    "        tensor.requires_grad = requires_grad\n",
    "        tensor._backward_hooks = backward_hooks\n",
    "        return tensor\n",
    "    torch._utils._rebuild_tensor_v2 = _rebuild_tensor_v2"
   ]
  },
  {
   "cell_type": "code",
   "execution_count": 2,
   "metadata": {},
   "outputs": [],
   "source": [
    "class ImageReader(Dataset):\n",
    "    def __init__(self):\n",
    "        self.__prepare_feat()\n",
    "\n",
    "    def __prepare_feat(self):\n",
    "        self.root_path = '/scratch/medhini2/paragraph_generation/data'\n",
    "        self.file_paths = os.listdir(self.root_path + '/resnet_features/')\n",
    "            \n",
    "    def __len__(self):\n",
    "        return len(self.file_paths)\n",
    "\n",
    "    def __getitem__(self, idx):\n",
    "        filename = self.file_paths[idx]\n",
    "        feat = torch.load(os.path.join(self.root_path + '/resnet_features/', filename))\n",
    "        box = torch.load(os.path.join(self.root_path + '/boxes/', filename))\n",
    "        box = torch.FloatTensor(box)\n",
    "        box_idx = len(box)\n",
    "        if box_idx == 0:\n",
    "            box = torch.zeros(2,4)\n",
    "        return filename, feat, box, box_idx\n",
    "    \n",
    "images = ImageReader()\n",
    "image_data = DataLoader(dataset=images, num_workers=4, batch_size=1, shuffle=False, drop_last=False) #How to make it work for batch size >1"
   ]
  },
  {
   "cell_type": "code",
   "execution_count": 3,
   "metadata": {},
   "outputs": [],
   "source": [
    "os.environ[\"CUDA_VISIBLE_DEVICES\"] = str(2)\n",
    "crop_height = 7\n",
    "crop_width = 7\n",
    "roi_dir = '/scratch/medhini2/paragraph_generation/data/RoI_avg/'\n",
    "avg_pool_crops = nn.AvgPool2d(7)\n",
    "for batch_idx, (filename, featuremap_data, boxes_data, boxes_idx) in enumerate(image_data):\n",
    "    featuremap = Variable(featuremap_data, requires_grad=True).cuda()\n",
    "    if boxes_idx[0]!=0:\n",
    "        boxes = Variable(boxes_data, requires_grad=False).cuda()\n",
    "        box_index = Variable(boxes_idx.type(torch.cuda.IntTensor), requires_grad=False).cuda()\n",
    "        #RoIAlign layer\n",
    "        roi_align = RoIAlign(crop_height, crop_width)\n",
    "        crops = roi_align(featuremap, boxes[0], box_index)\n",
    "        roi_file = os.path.join(roi_dir,filename[0])\n",
    "#         print(type(crops))\n",
    "#         print(crops)\n",
    "        crops = avg_pool_crops(crops).view(crops.shape[0],-1)\n",
    "        torch.save(crops.data,roi_file)\n",
    "        "
   ]
  },
  {
   "cell_type": "code",
   "execution_count": null,
   "metadata": {},
   "outputs": [],
   "source": []
  }
 ],
 "metadata": {
  "kernelspec": {
   "display_name": "Python 2",
   "language": "python",
   "name": "python2"
  },
  "language_info": {
   "codemirror_mode": {
    "name": "ipython",
    "version": 2
   },
   "file_extension": ".py",
   "mimetype": "text/x-python",
   "name": "python",
   "nbconvert_exporter": "python",
   "pygments_lexer": "ipython2",
   "version": "2.7.15"
  }
 },
 "nbformat": 4,
 "nbformat_minor": 2
}
