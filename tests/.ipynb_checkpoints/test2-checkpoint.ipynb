{
 "cells": [
  {
   "cell_type": "code",
   "execution_count": 1,
   "metadata": {},
   "outputs": [
    {
     "name": "stdout",
     "output_type": "stream",
     "text": [
      "Variable containing:\n",
      "(0 ,0 ,.,.) = \n",
      "  0  1  2\n",
      "  0  1  2\n",
      "  0  1  2\n",
      "[torch.FloatTensor of size 1x1x3x3]\n",
      "\n"
     ]
    }
   ],
   "source": [
    "import numpy as np\n",
    "import torch\n",
    "from torch.autograd import Variable\n",
    "\n",
    "from roi_align.roi_align import RoIAlign\n",
    "\n",
    "\n",
    "def to_varabile(arr, requires_grad=False, is_cuda=True):\n",
    "    tensor = torch.from_numpy(arr)\n",
    "    if is_cuda:\n",
    "        tensor = tensor.cuda()\n",
    "    var = Variable(tensor, requires_grad=requires_grad)\n",
    "    return var\n",
    "\n",
    "\n",
    "# the data you want\n",
    "is_cuda = False\n",
    "image_data = np.tile(np.arange(7, dtype=np.float32), 7).reshape(7, 7)\n",
    "image_data = image_data[np.newaxis, np.newaxis]\n",
    "boxes_data = np.asarray([[0, 0, 3, 3]], dtype=np.float32)\n",
    "box_index_data = np.asarray([0], dtype=np.int32)\n",
    "\n",
    "image_torch = to_varabile(image_data, requires_grad=True, is_cuda=is_cuda)\n",
    "boxes = to_varabile(boxes_data, requires_grad=False, is_cuda=is_cuda)\n",
    "box_index = to_varabile(box_index_data, requires_grad=False, is_cuda=is_cuda)\n",
    "\n",
    "# set transform_fpcoor to False is the crop_and_resize\n",
    "roi_align = RoIAlign(3, 3, transform_fpcoor=True)\n",
    "print(roi_align(image_torch, boxes, box_index))"
   ]
  },
  {
   "cell_type": "code",
   "execution_count": null,
   "metadata": {},
   "outputs": [],
   "source": []
  }
 ],
 "metadata": {
  "kernelspec": {
   "display_name": "Python 2",
   "language": "python",
   "name": "python2"
  },
  "language_info": {
   "codemirror_mode": {
    "name": "ipython",
    "version": 2
   },
   "file_extension": ".py",
   "mimetype": "text/x-python",
   "name": "python",
   "nbconvert_exporter": "python",
   "pygments_lexer": "ipython2",
   "version": "2.7.15"
  }
 },
 "nbformat": 4,
 "nbformat_minor": 2
}
